{
  "nbformat": 4,
  "nbformat_minor": 0,
  "metadata": {
    "colab": {
      "name": "permutation-odev1.ipynb",
      "provenance": [],
      "toc_visible": true,
      "authorship_tag": "ABX9TyMncxHbj3SYoOJAmNtAIA/T",
      "include_colab_link": true
    },
    "kernelspec": {
      "name": "python3",
      "display_name": "Python 3"
    }
  },
  "cells": [
    {
      "cell_type": "markdown",
      "metadata": {
        "id": "view-in-github",
        "colab_type": "text"
      },
      "source": [
        "<a href=\"https://colab.research.google.com/github/nihalzk/kou-ayrik/blob/master/permutation_odev1.ipynb\" target=\"_parent\"><img src=\"https://colab.research.google.com/assets/colab-badge.svg\" alt=\"Open In Colab\"/></a>"
      ]
    },
    {
      "cell_type": "markdown",
      "metadata": {
        "id": "7xImIWBMLpxy",
        "colab_type": "text"
      },
      "source": [
        "1.Ödev'in ayrıntılı çözümü aşağıdaki gibidir.\n",
        "Nihal Zuhal KAYALI - 196112001"
      ]
    },
    {
      "cell_type": "code",
      "metadata": {
        "colab_type": "code",
        "outputId": "6823c3d2-fbd7-4839-e8d0-088ff17e95ef",
        "id": "Guuf-LMLKAGG",
        "colab": {
          "base_uri": "https://localhost:8080/",
          "height": 170
        }
      },
      "source": [
        "def factorialCal(i):\n",
        "    \n",
        "    if i==1:       \n",
        "        return 1\n",
        "\n",
        "    else: \n",
        "        return i * factorialCal(i-1)\n",
        "    \n",
        "def permutationCal(j,k):\n",
        "    \n",
        "    l = 0\n",
        "    \n",
        "    if k>j:        \n",
        "        l = l\n",
        "        \n",
        "    else:      \n",
        "        l = factorialCal(j)/factorialCal(j-k)\n",
        "        return l\n",
        "    \n",
        "print(\"A={a,b,c,d,e,f} kümesinin 3'lü permütasyonlarının kaç tanesinde a elemanı bulunur ?\")   \n",
        "print(\"\\nÇözüm : [A kümesinin 3'lü permütasyonları] - [A kümesinde a elemanının bulunmadığı 3'lü permütasyonlar]\")  \n",
        "a=permutationCal(6,3)\n",
        "print(\"\\nA kümesinin 3'lü permütasyonları:\", a ) \n",
        "b=permutationCal(5,3)\n",
        "print(\"\\nA kümesinde a elemanının bulunmadığı 3'lü permütasyonlar:\", b ) \n",
        "print(\"\\nSonuç:\", a-b )\n"
      ],
      "execution_count": 9,
      "outputs": [
        {
          "output_type": "stream",
          "text": [
            "A={a,b,c,d,e,f} kümesinin 3'lü permütasyonlarının kaç tanesinde a elemanı bulunur ?\n",
            "\n",
            "Çözüm : [A kümesinin 3'lü permütasyonları] - [A kümesinde a elemanının bulunmadığı 3'lü permütasyonlar]\n",
            "\n",
            "A kümesinin 3'lü permütasyonları: 120.0\n",
            "\n",
            "A kümesinde a elemanının bulunmadığı 3'lü permütasyonlar: 60.0\n",
            "\n",
            "Sonuç: 60.0\n"
          ],
          "name": "stdout"
        }
      ]
    }
  ]
}