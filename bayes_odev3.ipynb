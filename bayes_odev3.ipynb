{
  "nbformat": 4,
  "nbformat_minor": 0,
  "metadata": {
    "colab": {
      "name": "bayes_odev3.ipynb",
      "provenance": [],
      "authorship_tag": "ABX9TyOHrU6BemY9KcA0/fYXmE0B",
      "include_colab_link": true
    },
    "kernelspec": {
      "name": "python3",
      "display_name": "Python 3"
    }
  },
  "cells": [
    {
      "cell_type": "markdown",
      "metadata": {
        "id": "view-in-github",
        "colab_type": "text"
      },
      "source": [
        "<a href=\"https://colab.research.google.com/github/nihalzk/kou-ayrik/blob/master/bayes_odev3.ipynb\" target=\"_parent\"><img src=\"https://colab.research.google.com/assets/colab-badge.svg\" alt=\"Open In Colab\"/></a>"
      ]
    },
    {
      "cell_type": "markdown",
      "metadata": {
        "id": "GnxQzLfHX3Nk",
        "colab_type": "text"
      },
      "source": [
        "# **ÖDEV - 3**\n",
        "***196112001 Nihal Zuhal KAYALI***\n",
        "\n",
        "\n",
        "---\n",
        "\n",
        "\n",
        "**SORU:**  Nazım Hikmet Ran Ortaokulundan mezun olup liselere giriş sınavına girmiş öğrencilerin **%30**'u Fen Liselerine, **%50**'si Anadolu Liselerine, **%20**'si ise Meslek Liselerine yerleşmiştir. Fen Lisesini kazanan öğrencilerin **%60**'ını, Anadolu Lisesini kazanan öğrencilerin **%50**'sini, Meslek Lisesini kazanan öğrencilerin ise **%20**'sini kız öğrenciler oluşturmaktadır.\n",
        "\n",
        "Öğrencilerin yer aldığı listeden seçilen bir öğrencinin **Fen Lisesine** yerleştiği bilindiğine göre bu öğrencinin **kız** olma olasılığı nedir?\n",
        "\n",
        "---\n",
        "\n",
        "**CEVAP:** **\"Fen Lisesine yerleşme\"** olayının gerçeklesmesi kosulu altında **\"kız öğrenci\"** olayının olma olasılığı hesaplanacaktır.\n",
        "\n",
        "\n",
        "```\n",
        "# Liselere yerleşen tüm kızlar\n",
        "Örnek Uzay = (%30)x(%60) + (%50)x(%50) + (%20)x(%20)\n",
        "# Fen Lisesini kazanan kız öğrenci\n",
        "Olay Uzayı = (%30)x(%60)\n",
        "```\n",
        "Gerekli işlemler yapıldığında sonuç aşağıdaki gibi olacaktır.\n",
        "\n",
        "```\n",
        "Olasılık = Olay Uzayı / Örnek Uzay\n",
        "Olasılık = [(%30)x(%60)] / [(%30)x(%60) + (%50)x(%50) + (%20)x(%20)] = %38\n",
        "```\n",
        "\n",
        "\n",
        "\n"
      ]
    },
    {
      "cell_type": "code",
      "metadata": {
        "id": "k94Mxhexfcue",
        "colab_type": "code",
        "colab": {
          "base_uri": "https://localhost:8080/",
          "height": 241
        },
        "outputId": "5238e048-870f-4483-d1c0-608dc469c058"
      },
      "source": [
        "#Öğrencilerin liselere yerleşme durumu \n",
        "FenLisesi = 0.3\n",
        "AnadoluLisesi = 0.5\n",
        "MeslekLisesi = 0.2\n",
        "\n",
        "print(\"Nazım Hikmet Ran Ortaokulundan mezun olup liselere giriş sınavına girmiş öğrencilerin %30'u Fen Liselerine , %50'si Anadolu Liselerine,  %20'si ise Meslek Liselerine yerleşmiştir.\") \n",
        "print(\"Fen Lisesini kazanan öğrencilerin %x'ini, Anadolu Lisesini kazanan öğrencilerin %y'sini, Meslek Lisesini kazanan öğrencilerin ise %z'sini kız öğrenciler oluşturmaktadır.\")\n",
        "print(\"Öğrencilerin yer aldığı listeden seçilen bir öğrencinin Fen Lisesine yerleştiği bilindiğine göre bu öğrencinin kız olma olasılığı nedir?\")\n",
        " \n",
        "#Liselere yerleşen kız öğrenci oranının kullanıcıdan istenmesi\n",
        "print(\"\\nÇözüm için lütfen aşağıda istenecek  [0-100] aralığında değerler ile cevaplayınız. \")\n",
        "x=int(input(\"Fen Lisesine yerleşen kız öğrenci oranını giriniz.\\nx=\"))/100\n",
        "y=int(input(\"Anadolu Lisesine yerleşen kız öğrenci oranını giriniz.\\ny=\"))/100\n",
        "z=int(input(\"Meslek Lisesine yerleşen kız öğrenci oranını giriniz.\\nz=\"))/100\n",
        "\n",
        "FenKizOrani = FenLisesi * x\n",
        "AnadoluKizOrani = AnadoluLisesi * y\n",
        "MeslekKizOrani = MeslekLisesi * z\n",
        "\n",
        "Hesapla = FenKizOrani / (FenKizOrani + AnadoluKizOrani + MeslekKizOrani)\n",
        "print(\"Listeden seçilen öğrencinin Fen Lisesine yerleşen kız öğrenci olma olasılığı : \",'%',Hesapla*100)"
      ],
      "execution_count": 14,
      "outputs": [
        {
          "output_type": "stream",
          "text": [
            "Nazım Hikmet Ran Ortaokulundan mezun olup liselere giriş sınavına girmiş öğrencilerin %30'u Fen Liselerine , %50'si Anadolu Liselerine,  %20'si ise Meslek Liselerine yerleşmiştir.\n",
            "Fen Lisesini kazanan öğrencilerin %x'ini, Anadolu Lisesini kazanan öğrencilerin %y'sini, Meslek Lisesini kazanan öğrencilerin ise %z'sini kız öğrenciler oluşturmaktadır.\n",
            "Öğrencilerin yer aldığı listeden seçilen bir öğrencinin Fen Lisesine yerleştiği bilindiğine göre bu öğrencinin kız olma olasılığı nedir?\n",
            "\n",
            "Çözüm için lütfen aşağıda istenecek  [0-100] aralığında değerler ile cevaplayınız. \n",
            "Fen Lisesine yerleşen kız öğrenci oranını giriniz.\n",
            "x=60\n",
            "Anadolu Lisesine yerleşen kız öğrenci oranını giriniz.\n",
            "y=50\n",
            "Meslek Lisesine yerleşen kız öğrenci oranını giriniz.\n",
            "z=20\n",
            "Listeden seçilen öğrencinin Fen Lisesine yerleşen kız öğrenci olma olasılığı :  % 38.297872340425535\n"
          ],
          "name": "stdout"
        }
      ]
    }
  ]
}