{
  "nbformat": 4,
  "nbformat_minor": 0,
  "metadata": {
    "colab": {
      "name": "Untitled0.ipynb",
      "provenance": [],
      "authorship_tag": "ABX9TyNwdCk/hpF4wCtsjKHy8dns",
      "include_colab_link": true
    },
    "kernelspec": {
      "name": "python3",
      "display_name": "Python 3"
    }
  },
  "cells": [
    {
      "cell_type": "markdown",
      "metadata": {
        "id": "view-in-github",
        "colab_type": "text"
      },
      "source": [
        "<a href=\"https://colab.research.google.com/github/nihalzk/kou-ayrik/blob/master/combination_odev2.ipynb\" target=\"_parent\"><img src=\"https://colab.research.google.com/assets/colab-badge.svg\" alt=\"Open In Colab\"/></a>"
      ]
    },
    {
      "cell_type": "markdown",
      "metadata": {
        "id": "IJv3VDonbLDm",
        "colab_type": "text"
      },
      "source": [
        "# **ÖDEV - 2** \n",
        "***196112001***\n",
        "***Nihal Zuhal KAYALI***\n",
        "\n",
        "**SORU:** Bir kutuda 4 tanesi çalışan toplamda 15 USB kablo bulunmaktadır. Bu kablolardan hangilerinin çalışıp çalışmadığını bilmeyen Nihal rastgele 3 tanesini okula giderken yanına almıştır. Okula gittiğinde bu 3 kablonunda çalışıyor olma olasılığı nedir?\n",
        "\n",
        "---\n",
        "\n",
        "**CEVAP:** Eşit şanslı olaylardan oluşan bu olasılık probleminde her kablo farklıdır ve seçilme ihtimalleri eşittir.\n",
        "\n",
        "```\n",
        "Toplam USB Kablo sayısı = 15\n",
        "Çalışan USB sayısı = 4\n",
        "Bozuk USB sayısı = 11\n",
        "Rastgele seçilen USB sayısı = 3\n",
        "```\n",
        "Eğer seçilen 3 kablonunda bozuk olması ihtimalini **1**'den çıkarırsak bu durumda istenen sonuca ulaşabiliriz.\n",
        "\n",
        "**P(A) + P'(A) = 1**\n",
        "\n",
        "**P(A) = 1 - P'(A)**\n",
        "```\n",
        "#Toplam USB sayısı içinden 3 USB'nin seçilmesi\n",
        "Örnek Uzay = c(15,3) \n",
        "\n",
        "#Bozuk USB'ler içinden 3 USB'nin seçilmesi\n",
        "Olay Uzayı = c(15-4,3) = c(11,3) \n",
        "\n",
        "Sonuç = 1 - (Olay Uzayı / Örnek Uzay)\n",
        "```\n",
        "---\n"
      ]
    },
    {
      "cell_type": "code",
      "metadata": {
        "id": "XgGsAxk9JTEw",
        "colab_type": "code",
        "colab": {
          "base_uri": "https://localhost:8080/",
          "height": 255
        },
        "outputId": "571bb387-4046-4a9e-e824-8d897f56768c"
      },
      "source": [
        "def factorialCal(i):\n",
        "    #faktöriyel hesabının yapıldığı fonksiyon\n",
        "    if i==1:       \n",
        "        return 1\n",
        "\n",
        "    else: \n",
        "        return i * factorialCal(i-1)\n",
        "    \n",
        "def combinationCal(j,k):\n",
        "    #kombinasyon hesabının yapıldığı fonksiyon\n",
        "    l = 0\n",
        "    \n",
        "    if k>j:        \n",
        "        l = l\n",
        "        \n",
        "    else:      \n",
        "        l =  l = factorialCal(j)/(factorialCal(j-k)*factorialCal(k))\n",
        "        return l\n",
        "    \n",
        "print(\"Soru : \\nBir kutuda 4 tanesi çalışan toplamda 15 USB kablo bulunmaktadır.\\nBu kablolardan hangilerinin çalışıp çalışmadığını bilmeyen Nihal rastgele 3 tanesini okula giderken yanına almıştır. \\nOkula gittiğinde bu 3 kablonunda çalışıyor olma olasılığı nedir?\")   \n",
        "print(\"\\nÇözüm : \\n \\n 1 - (Olay Uzayı / Örnek Uzay)\")  \n",
        "a=combinationCal(11,3)\n",
        "print(\"\\nOlay Uzayı:\", a ) \n",
        "b=combinationCal(15,3)\n",
        "print(\"\\nÖrnek Uzay:\", b ) \n",
        "sonuc= 1-(a/b)\n",
        "print(\"\\nKabloların çalışıyor olma olasılığı:\", '%', sonuc*100 )\n",
        "\n"
      ],
      "execution_count": 41,
      "outputs": [
        {
          "output_type": "stream",
          "text": [
            "Soru : \n",
            "Bir kutuda 4 tanesi çalışan toplamda 15 USB kablo bulunmaktadır.\n",
            "Bu kablolardan hangilerinin çalışıp çalışmadığını bilmeyen Nihal rastgele 3 tanesini okula giderken yanına almıştır. \n",
            "Okula gittiğinde bu 3 kablonunda çalışıyor olma olasılığı nedir?\n",
            "\n",
            "Çözüm : \n",
            " \n",
            " 1 - (Olay Uzayı / Örnek Uzay)\n",
            "\n",
            "Olay Uzayı: 165.0\n",
            "\n",
            "Örnek Uzay: 455.0\n",
            "\n",
            "Kabloların çalışıyor olma olasılığı: % 63.73626373626373\n"
          ],
          "name": "stdout"
        }
      ]
    },
    {
      "cell_type": "markdown",
      "metadata": {
        "id": "IFQDdqs8wdXk",
        "colab_type": "text"
      },
      "source": [
        "**ÇÖZÜM - 2**\n",
        "\n",
        "Eğer klavyeden giriş alarak çözmek istersek kod aşağıdaki gibi olacaktır."
      ]
    },
    {
      "cell_type": "code",
      "metadata": {
        "id": "qtCJKYjXwLSI",
        "colab_type": "code",
        "colab": {
          "base_uri": "https://localhost:8080/",
          "height": 306
        },
        "outputId": "b4a53ecf-d124-4acb-833a-555217204da7"
      },
      "source": [
        "def factorialCal(i):\n",
        "    #faktöriyel hesabının yapıldığı fonksiyon\n",
        "    if i==1:       \n",
        "        return 1\n",
        "\n",
        "    else: \n",
        "        return i * factorialCal(i-1)\n",
        "    \n",
        "def combinationCal(j,k):\n",
        "    #kombinasyon hesabının yapıldığı fonksiyon\n",
        "    l = 0\n",
        "    \n",
        "    if k>j:        \n",
        "        l = l\n",
        "        \n",
        "    else:      \n",
        "        l =  l = factorialCal(j)/(factorialCal(j-k)*factorialCal(k))\n",
        "        return l\n",
        "    \n",
        "print(\"Soru : \\nBir kutuda A tanesi çalışan toplamda B tane USB kablo bulunmaktadır.\\nBu kablolardan hangilerinin çalışıp çalışmadığını bilmeyen Nihal rastgele C tanesini okula giderken yanına almıştır. \\nOkula gittiğinde bu C tane kablonunda çalışıyor olma olasılığı nedir?\")   \n",
        "print(\"\\nÇözüm : \\n \\n 1 - (Olay Uzayı / Örnek Uzay)\")  \n",
        "\n",
        "x=int(input(\"Toplam USB sayısını giriniz:\"))\n",
        "y=int(input(\"Çalışan USB sayısını giriniz:\"))\n",
        "z=int(input(\"Kaç USB seçileceğini giriniz\"))\n",
        "\n",
        "a=combinationCal((x-y),z)\n",
        "print(\"\\nOlay Uzayı:\", a ) \n",
        "b=combinationCal(x,z)\n",
        "print(\"\\nÖrnek Uzay:\", b ) \n",
        "sonuc= 1-(a/b)\n",
        "print(\"\\nKabloların çalışıyor olma olasılığı:\", '%', sonuc*100 )"
      ],
      "execution_count": 42,
      "outputs": [
        {
          "output_type": "stream",
          "text": [
            "Soru : \n",
            "Bir kutuda A tanesi çalışan toplamda B tane USB kablo bulunmaktadır.\n",
            "Bu kablolardan hangilerinin çalışıp çalışmadığını bilmeyen Nihal rastgele C tanesini okula giderken yanına almıştır. \n",
            "Okula gittiğinde bu C tane kablonunda çalışıyor olma olasılığı nedir?\n",
            "\n",
            "Çözüm : \n",
            " \n",
            " 1 - (Olay Uzayı / Örnek Uzay)\n",
            "Toplam USB sayısını giriniz:15\n",
            "Çalışan USB sayısını giriniz:4\n",
            "Kaç USB seçileceğini giriniz3\n",
            "\n",
            "Olay Uzayı: 165.0\n",
            "\n",
            "Örnek Uzay: 455.0\n",
            "\n",
            "Kabloların çalışıyor olma olasılığı: % 63.73626373626373\n"
          ],
          "name": "stdout"
        }
      ]
    }
  ]
}