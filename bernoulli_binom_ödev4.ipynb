{
  "nbformat": 4,
  "nbformat_minor": 0,
  "metadata": {
    "colab": {
      "name": "bernoulli-binom_ödev4",
      "provenance": [],
      "collapsed_sections": [],
      "toc_visible": true,
      "include_colab_link": true
    },
    "kernelspec": {
      "display_name": "Python 3",
      "name": "python3"
    }
  },
  "cells": [
    {
      "cell_type": "markdown",
      "metadata": {
        "id": "view-in-github",
        "colab_type": "text"
      },
      "source": [
        "<a href=\"https://colab.research.google.com/github/nihalzk/kou-ayrik/blob/master/bernoulli_binom_%C3%B6dev4.ipynb\" target=\"_parent\"><img src=\"https://colab.research.google.com/assets/colab-badge.svg\" alt=\"Open In Colab\"/></a>"
      ]
    },
    {
      "cell_type": "markdown",
      "metadata": {
        "id": "n5KmSA60aufu",
        "colab_type": "text"
      },
      "source": [
        "# **ÖDEV - 4 / Poisson - 1.ÖRNEK**\n",
        "***196112001 Nihal Zuhal KAYALI***\n",
        "\n",
        "\n",
        "---\n",
        "\n",
        "\n",
        "**SORU:**  Bir şehirde ender rastlanan bir hastalıktan, bir hafta içinde ortalama ölen kişi sayısı 4’ tür. Belli bir hafta içinde bu hastalıktan Hiç kimsenin ölmemesi olasılığını hesaplayınız.\n",
        "\n",
        "\n",
        "---\n",
        "**CEVAP:** \n",
        "\n",
        "![picture](https://i.hizliresim.com/s9vmD3.png) \n",
        "\n",
        "\n",
        "```\n",
        "\n",
        "```\n",
        "\n",
        "\n",
        "---"
      ]
    },
    {
      "cell_type": "code",
      "metadata": {
        "id": "dMmv9u13atO9",
        "colab_type": "code",
        "outputId": "549ad715-7191-4315-ad9a-2b2abf0e4443",
        "colab": {
          "base_uri": "https://localhost:8080/",
          "height": 34
        }
      },
      "source": [
        "import math\n",
        "def factorialCal(i):\n",
        "  if i==0:       \n",
        "        return 1\n",
        "  elif i==1:\n",
        "        return 1\n",
        "  else: \n",
        "        return i * factorialCal(i-1)\n",
        "\n",
        "lamda = 4;\n",
        "x =0;\n",
        "\n",
        "print(\"Cevap: P(X=0) = \", (((math.exp(-lamda))*pow(lamda,x))/factorialCal(0)));"
      ],
      "execution_count": 1,
      "outputs": [
        {
          "output_type": "stream",
          "text": [
            "Cevap: P(X=0) =  0.01831563888873418\n"
          ],
          "name": "stdout"
        }
      ]
    },
    {
      "cell_type": "markdown",
      "metadata": {
        "colab_type": "text",
        "id": "llK2Qj0gawKl"
      },
      "source": [
        "# **ÖDEV - 4 / Binom - 2.ÖRNEK**\n",
        "***196112001 Nihal Zuhal KAYALI***\n",
        "\n",
        "\n",
        "---\n",
        "\n",
        "\n",
        "**SORU:**  Bir pastanede, peynirli poğaçaların içine zeytinli poğaçaların karışma ihtimali 0,3'tür. Bir müşterinin işe giderken ofis arkadaşlarına aldığı 20 adet peynirli poğaçanın 4'ünün zeytinli çıkma olasılığı nedir?\n",
        "\n",
        "\n",
        "\n",
        "```\n",
        "n = 20 (Alınan Poğaça Sayısı)\n",
        "x = 4 (Zeytinli Çıkmasını İstediğimiz Poğaça Sayısı)\n",
        "P(Başarı) = Başarı olasılığı = 0.2 'dir.\n",
        "1 - P(Başarı) = 0.8'dir.\n",
        "P(x) = C(20,4) x 0.2^3 x 0.8^(20-4)\n",
        "```\n",
        "\n",
        "\n",
        "\n",
        "\n",
        "\n",
        "---"
      ]
    },
    {
      "cell_type": "code",
      "metadata": {
        "id": "xs6P9YgLauQs",
        "colab_type": "code",
        "outputId": "7da2c9cc-f9e3-47f2-f570-f73495f4fc09",
        "colab": {
          "base_uri": "https://localhost:8080/",
          "height": 34
        }
      },
      "source": [
        "#Faktöriyel hesabının yapıldığı fonksiyon\n",
        "def factorialCal(i):\n",
        "    if i==1:       \n",
        "        return 1\n",
        "\n",
        "    else: \n",
        "        return i * factorialCal(i-1)\n",
        "\n",
        "# Kombinasyon hesabının yapıldığı fonksiyon\n",
        "def combinationCal(j,k):\n",
        "    l = 0\n",
        "    \n",
        "    if k>j:        \n",
        "        l = l\n",
        "        \n",
        "    else:      \n",
        "        l =  l = factorialCal(j)/(factorialCal(j-k)*factorialCal(k))\n",
        "        return l\n",
        "\n",
        "# Binom Hesabı Yapan Fonksiyon :\n",
        "def binom(p, j, x):\n",
        "  sonuc = combinationCal(j,x) * pow(p,x) * pow((1-p),(j-x))\n",
        "  return sonuc\n",
        "\n",
        "zeytinliOlmasi = 0.3\n",
        "j = 20 \n",
        "x = 4 \n",
        "yanit = binom(zeytinliOlmasi, j, x)\n",
        "print(\"Satın alınan \" + str(j) + \" tane peynirli poğaçanın içinde \" + str(x) + \" tane poğaçanın zeytinli olma olasılığı : \", yanit)"
      ],
      "execution_count": 0,
      "outputs": [
        {
          "output_type": "stream",
          "text": [
            "Satın alınan 20 tane peynirli poğaçanın içinde 4 tane poğaçanın zeytinli olma olasılığı :  0.13042097437387049\n"
          ],
          "name": "stdout"
        }
      ]
    }
  ]
}