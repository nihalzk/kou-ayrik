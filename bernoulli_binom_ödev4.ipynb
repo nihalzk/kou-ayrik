{
  "nbformat": 4,
  "nbformat_minor": 0,
  "metadata": {
    "colab": {
      "name": "bernoulli-binom_ödev4",
      "provenance": [],
      "collapsed_sections": [],
      "toc_visible": true,
      "include_colab_link": true
    },
    "kernelspec": {
      "display_name": "Python 3",
      "name": "python3"
    }
  },
  "cells": [
    {
      "cell_type": "markdown",
      "metadata": {
        "id": "view-in-github",
        "colab_type": "text"
      },
      "source": [
        "<a href=\"https://colab.research.google.com/github/nihalzk/kou-ayrik/blob/master/bernoulli_binom_%C3%B6dev4.ipynb\" target=\"_parent\"><img src=\"https://colab.research.google.com/assets/colab-badge.svg\" alt=\"Open In Colab\"/></a>"
      ]
    },
    {
      "cell_type": "markdown",
      "metadata": {
        "id": "n5KmSA60aufu",
        "colab_type": "text"
      },
      "source": [
        "# **ÖDEV - 4 / Bernoulli - 1.ÖRNEK**\n",
        "***196112001 Nihal Zuhal KAYALI***\n",
        "\n",
        "\n",
        "---\n",
        "\n",
        "\n",
        "**SORU:**  Nazım Hikmet Ran Ortaokulunda düzenlenen kermes etkinliği sonrası velilere verilen anket sonucunun katılımcı sayısına göre olumsuz olma oranı % 1'dir. Rastgele seçilen 30. velinin anketinin sonucunun olumsuz olan ilk veli olma olasılığı nedir?\n",
        "\n",
        "---\n",
        "**CEVAP:** \n",
        "\n",
        "\n",
        "```\n",
        "Formül = (0.01)*(1-0.01)exp(30-1)\n",
        "1,2,...,30 = 0.007471720943315961\n",
        "```\n",
        "\n",
        "\n",
        "---"
      ]
    },
    {
      "cell_type": "code",
      "metadata": {
        "id": "dMmv9u13atO9",
        "colab_type": "code",
        "outputId": "3ae21bdd-2e65-4009-c98d-e357487eed4e",
        "colab": {
          "base_uri": "https://localhost:8080/",
          "height": 122
        }
      },
      "source": [
        "print(\"Nazım Hikmet Ran Ortaokulunda düzenlenen kermes etkinliği sonrası velilere verilen anket sonucunun katılımcı sayısına göre olumsuz olma oranı % 1'dir.\")   \n",
        "print(\"Rastgele seçilen 30. velinin anketinin sonucunun olumsuz olan ilk veli olma olasılığı nedir?\") \n",
        " \n",
        "X = int(input(\"Rastgele Seçilen Veli Sırası : \"))                \n",
        "p= float(input(\"Olumsuz Anket Oranı: \"))               \n",
        "\n",
        "print(\"Cevap:\", (p/100)*pow((1-p/100),X-1))"
      ],
      "execution_count": 0,
      "outputs": [
        {
          "output_type": "stream",
          "text": [
            "Nazım Hikmet Ran Ortaokulunda düzenlenen kermes etkinliği sonrası velilere verilen anket sonucunun katılımcı sayısına göre olumsuz olma oranı % 1'dir.\n",
            "Rastgele seçilen 30. velinin anketinin sonucunun olumsuz olan ilk veli olma olasılığı nedir?\n",
            "Rastgele Seçilen Veli Sırası : 30\n",
            "Olumsuz Anket Oranı: 1\n",
            "Cevap: 0.007471720943315961\n"
          ],
          "name": "stdout"
        }
      ]
    },
    {
      "cell_type": "markdown",
      "metadata": {
        "colab_type": "text",
        "id": "llK2Qj0gawKl"
      },
      "source": [
        "# **ÖDEV - 4 / Binom - 2.ÖRNEK**\n",
        "***196112001 Nihal Zuhal KAYALI***\n",
        "\n",
        "\n",
        "---\n",
        "\n",
        "\n",
        "**SORU:**  Bir pastanede, peynirli poğaçaların içine zeytinli poğaçaların karışma ihtimali 0,3'tür. Bir müşterinin işe giderken ofis arkadaşlarına aldığı 20 adet peynirli poğaçanın 4'ünün zeytinli çıkma olasılığı nedir?\n",
        "\n",
        "\n",
        "\n",
        "```\n",
        "n = 20 (Alınan Poğaça Sayısı)\n",
        "x = 4 (Zeytinli Çıkmasını İstediğimiz Poğaça Sayısı)\n",
        "P(Başarı) = Başarı olasılığı = 0.2 'dir.\n",
        "1 - P(Başarı) = 0.8'dir.\n",
        "P(x) = C(20,4) x 0.2^3 x 0.8^(20-4)\n",
        "```\n",
        "\n",
        "\n",
        "\n",
        "\n",
        "\n",
        "---"
      ]
    },
    {
      "cell_type": "code",
      "metadata": {
        "id": "xs6P9YgLauQs",
        "colab_type": "code",
        "outputId": "34e8dc7b-0cd1-4120-ff9e-608c5fa727d8",
        "colab": {
          "base_uri": "https://localhost:8080/",
          "height": 34
        }
      },
      "source": [
        "#Faktöriyel hesabının yapıldığı fonksiyon\n",
        "def factorialCal(i):\n",
        "    if i==1:       \n",
        "        return 1\n",
        "\n",
        "    else: \n",
        "        return i * factorialCal(i-1)\n",
        "\n",
        "# Kombinasyon hesabının yapıldığı fonksiyon\n",
        "def combinationCal(j,k):\n",
        "    l = 0\n",
        "    \n",
        "    if k>j:        \n",
        "        l = l\n",
        "        \n",
        "    else:      \n",
        "        l =  l = factorialCal(j)/(factorialCal(j-k)*factorialCal(k))\n",
        "        return l\n",
        "\n",
        "# Binom Hesabı Yapan Fonksiyon :\n",
        "def binom(p, j, x):\n",
        "  sonuc = combinationCal(j,x) * pow(p,x) * pow((1-p),(j-x))\n",
        "  return sonuc\n",
        "\n",
        "zeytinliOlmasi = 0.3\n",
        "j = 20 \n",
        "x = 4 \n",
        "yanit = binom(zeytinliOlmasi, j, x)\n",
        "print(\"Satın alınan \" + str(j) + \" tane peynirli poğaçanın içinde \" + str(x) + \" tane poğaçanın zeytinli olma olasılığı : \", yanit)"
      ],
      "execution_count": 0,
      "outputs": [
        {
          "output_type": "stream",
          "text": [
            "Satın alınan 20 tane peynirli poğaçanın içinde 4 tane poğaçanın zeytinli olma olasılığı :  0.13042097437387049\n"
          ],
          "name": "stdout"
        }
      ]
    }
  ]
}
